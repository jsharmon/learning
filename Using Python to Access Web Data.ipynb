{
 "cells": [
  {
   "cell_type": "markdown",
   "metadata": {},
   "source": [
    "# Regular Expressions"
   ]
  },
  {
   "cell_type": "markdown",
   "metadata": {},
   "source": [
    "Regular expressions are basically powerful methods for searching text strings and finding specific matches. Some examples have been included below but to be honest you're probably going to have to reference a table of what each char means to build these search strings for a while."
   ]
  },
  {
   "cell_type": "code",
   "execution_count": 22,
   "metadata": {},
   "outputs": [
    {
     "name": "stdout",
     "output_type": "stream",
     "text": [
      "Hello!-this: is line one\n",
      "\n",
      "line two line two\n",
      "\n",
      "third line, mighty fine\n",
      "\n",
      "Hey-this: is line four\n",
      "\n",
      "this is the -- fifth -- line\n",
      "\n",
      "Hi!- this: is line six\n",
      "\n",
      "Hi!-this: is line seven\n",
      "\n"
     ]
    }
   ],
   "source": [
    "# Set up an example list as if I've read in a text file\n",
    "multiLineEx = ['Hello!-this: is line one\\n',\n",
    "               'line two line two\\n',\n",
    "               'third line, mighty fine\\n',\n",
    "               'Hey-this: is line four\\n',\n",
    "               'this is the -- fifth -- line\\n',\n",
    "               'Hi!- this: is line six\\n',\n",
    "               'Hi!-this: is line seven\\n']\n",
    "for line in multiLineEx:\n",
    "    print(line)"
   ]
  },
  {
   "cell_type": "code",
   "execution_count": 23,
   "metadata": {},
   "outputs": [
    {
     "name": "stdout",
     "output_type": "stream",
     "text": [
      "third line, mighty fine\n",
      "this is the -- fifth -- line\n"
     ]
    }
   ],
   "source": [
    "import re   # Import regex library\n",
    "\n",
    "# Example of searching for string at beginning of line\n",
    "for line in multiLineEx:\n",
    "    line = line.rstrip() # Included \\n chars in example list\n",
    "    \n",
    "    # Search line for the specified string; in regex, ^ = starts with\n",
    "    if re.search('^(th.*)', line):\n",
    "        print(line)"
   ]
  },
  {
   "cell_type": "code",
   "execution_count": 24,
   "metadata": {},
   "outputs": [
    {
     "name": "stdout",
     "output_type": "stream",
     "text": [
      "Third query: Hello!-this: is line one\n",
      "First query: third line, mighty fine\n",
      "First query: Hey-this: is line four\n",
      "Third query: Hey-this: is line four\n",
      "First query: this is the -- fifth -- line\n",
      "Second query: this is the -- fifth -- line\n",
      "Third query: Hi!-this: is line seven\n"
     ]
    }
   ],
   "source": [
    "# . matches any character - wildcard. * means any number of times, specifically 0 or more\n",
    "# So, .* = any number of any characters\n",
    "# Example of searching for f*** anywhere in line\n",
    "for line in multiLineEx:\n",
    "    line = line.rstrip() # Included \\n chars in example list\n",
    "    \n",
    "    # Search line for the specified string\n",
    "    if re.search('f.*', line):\n",
    "        print('First query: ' + line)\n",
    "    \n",
    "    # Similarly, could look only for f*** --; * applies once, retroactively;\n",
    "    # can still build string up from there\n",
    "    if re.search('f.* --', line):\n",
    "        print('Second query: ' + line)\n",
    "        \n",
    "    # Can put together a more complicated search. This searches for, in plain language,\n",
    "    # strings that start with H, followed by any number of any character, followed by a -,\n",
    "    # followed by one or more non-whitespace characters, followed by a colon!\n",
    "    # NOTE especially that this does not pick up line six due to space after - !\n",
    "    # It does however pick up line seven, which is nearly identical except for lack\n",
    "    # of space. So, regex are pretty powerful, if weird to read.\n",
    "    if re.search('^H.*-\\S+:', line):\n",
    "        print('Third query: ' + line)"
   ]
  },
  {
   "cell_type": "code",
   "execution_count": 42,
   "metadata": {},
   "outputs": [
    {
     "name": "stdout",
     "output_type": "stream",
     "text": [
      "['21', '2', '230']\n",
      "['e', 'i', 'e', 'o', 'e', 'oo', 'e', 'ea', 'e', 'oo', 'e', 'i', 'e', 'a', 'i', 'oo', 'a', 'e', 'e', 'a', 'u', 'u', 'i', 'i', 'o', 'a', 'a', 'e', 'u', 'a', 'ie', 'o', 'o', 'e', 'u', 'e', 'a', 'e']\n",
      "['oo', 'ea', 'oo', 'oo', 'ie']\n",
      "[]\n"
     ]
    }
   ],
   "source": [
    "# Now, instead of simple searching and returning a bool, try extracting some data!\n",
    "exString = '''The fine flower bloomed near the flooded riverbank; it took 21 days, 2 gentle hands, \n",
    "              nurturing its growth, and 230 carefully-applied drops of the purest water.'''\n",
    "\n",
    "# Get all digits; anything in the range 0-9, one or more in a row!\n",
    "# Note that this returns a list.\n",
    "print(re.findall('[0-9]+', exString))\n",
    "\n",
    "# Get all vowels, then only double vowels\n",
    "# Be careful to not put spaces in between entries in the [], or it'll\n",
    "# search for spaces as well. Note also that you don't need commas!\n",
    "print(re.findall('[aeiou]+', exString))\n",
    "print(re.findall('[aeiou]{2}', exString))\n",
    "\n",
    "# Get all uppercase vowels\n",
    "# Note that this is case sensitive, and returns an empty list if not present in string\n",
    "print(re.findall('[AEIOU]+', exString))"
   ]
  },
  {
   "cell_type": "code",
   "execution_count": 58,
   "metadata": {},
   "outputs": [
    {
     "name": "stdout",
     "output_type": "stream",
     "text": [
      "Greedy: ['From: boaty@gmail.com: subject:']\n",
      "Non-greedy: ['From:']\n",
      "Through second colon: ['From: boaty@gmail.com:']\n",
      "Email: ['boaty@gmail.com:']\n",
      "Email, with more specific search: ['boaty@gmail.com']\n",
      "Email, only domain: ['gmail.com']\n"
     ]
    }
   ],
   "source": [
    "# Example of what greedy matching means - basically, re will look for the\n",
    "# longest string that fits the search and try to return that. This comes\n",
    "# into play when there are two or more possible subsets of the string\n",
    "# that would match a search, like below.\n",
    "# Also note that greedy matching goes in both directions!\n",
    "exStr = 'From: boaty@gmail.com: subject: boats'\n",
    "\n",
    "# If I do nothing and allow greedy matching, it grabs until the last colon\n",
    "# So, it looks for longest result, it does not stop at the first colon it finds\n",
    "print('Greedy: ' + str(re.findall('^F.+:', exStr)))\n",
    "print('Non-greedy: ' + str(re.findall('^F.+?:', exStr)))\n",
    "\n",
    "# If I want up through the second colon, can just refine search; note\n",
    "# that it would still grab through the end of the string if I leave the first\n",
    "# .+ as greedy!\n",
    "print('Through second colon: ' + str(re.findall('^F.+?: .+?:', exStr)))\n",
    "\n",
    "# Grab only email address; \\S+ = at least one non-whitespace\n",
    "print('Email: ' + str(re.findall('\\S+@\\S+', exStr)))\n",
    "\n",
    "# Use parentheses to tell findall when to start extracting; can match longer\n",
    "# string and then only extract subset, in parentheses, if desired\n",
    "# Can stop getting the colon after by refining the parentheses.\n",
    "print('Email, with more specific search: ' + str(re.findall('^F.*?: (\\S+@\\S+):', exStr)))\n",
    "\n",
    "# Get only 'gmail.com'. For [], if the first character is ^, that means\n",
    "# NOT, i.e., here get only those characters which are NOT spaces\n",
    "print('Email, only domain: ' + str(re.findall('@([^ ]*):', exStr)))"
   ]
  },
  {
   "cell_type": "code",
   "execution_count": 59,
   "metadata": {},
   "outputs": [
    {
     "name": "stdout",
     "output_type": "stream",
     "text": [
      "['$10.00']\n"
     ]
    }
   ],
   "source": [
    "# Example of escaping to find actual character that is otherwised used for searches in regex,\n",
    "# e.g. the $\n",
    "exStr = 'Girl scout cookies cost $10.00, which is quite high I think.'\n",
    "\n",
    "# Can do this by escaping the $ with \\\n",
    "# [0-9.] indicates it should be looking for floating points! I think just\n",
    "# through looking for .\n",
    "print(re.findall('\\$[0-9.]+', exStr))"
   ]
  },
  {
   "cell_type": "code",
   "execution_count": 64,
   "metadata": {},
   "outputs": [
    {
     "name": "stdout",
     "output_type": "stream",
     "text": [
      "299461\n"
     ]
    }
   ],
   "source": [
    "# Running through HW from course; good example of reading a file as well using with\n",
    "import re\n",
    "\n",
    "sumVals = 0\n",
    "\n",
    "with open('regex-homework.txt') as f:\n",
    "    content = f.readlines()\n",
    "    \n",
    "for line in content:\n",
    "    numsInLine = re.findall('[0-9]+', line)\n",
    "    for val in numsInLine:\n",
    "        sumVals += int(val)\n",
    "        \n",
    "print(sumVals)"
   ]
  }
 ],
 "metadata": {
  "kernelspec": {
   "display_name": "Python 3",
   "language": "python",
   "name": "python3"
  },
  "language_info": {
   "codemirror_mode": {
    "name": "ipython",
    "version": 3
   },
   "file_extension": ".py",
   "mimetype": "text/x-python",
   "name": "python",
   "nbconvert_exporter": "python",
   "pygments_lexer": "ipython3",
   "version": "3.7.1"
  }
 },
 "nbformat": 4,
 "nbformat_minor": 2
}
