{
 "cells": [
  {
   "cell_type": "markdown",
   "metadata": {},
   "source": [
    "# Simple class example - point on a 2D Cartesian coordinate system"
   ]
  },
  {
   "cell_type": "markdown",
   "metadata": {},
   "source": [
    "Note that the get() class methods are not necessary; I want to say they're used in Java or JS but not sure. In python at least, you can just access the instance variable. Also note how to define special methods (`__add__` in this example)."
   ]
  },
  {
   "cell_type": "code",
   "execution_count": 33,
   "metadata": {},
   "outputs": [
    {
     "name": "stdout",
     "output_type": "stream",
     "text": [
      "3\n",
      "Point (10, 14)\n",
      "Point (5.0, 7.0)\n",
      "-\n"
     ]
    }
   ],
   "source": [
    "class Point():   \n",
    "    ex_class_var = '-'\n",
    "    \n",
    "    # Contructor function\n",
    "    def __init__(self, x=0, y=0):\n",
    "        self.x = x\n",
    "        self.y = y\n",
    "    \n",
    "    def __add__(self, otherPt):\n",
    "        return Point(self.x + otherPt.x,\n",
    "                     self.y + otherPt.y)\n",
    "    \n",
    "    def __str__(self):\n",
    "        return 'Point ({}, {})'.format(self.x, self.y)\n",
    "    \n",
    "    def halfway(self, otherPt):\n",
    "        return Point((self.x + otherPt.x)/2,\n",
    "                     (self.y + otherPt.y)/2)\n",
    "\n",
    "pt1 = Point(3, 5)\n",
    "pt2 = Point(7, 9)\n",
    "\n",
    "print(pt1.x)\n",
    "print(pt1 + pt2)\n",
    "\n",
    "print(pt1.halfway(pt2)) # should return new point halfway between pt1 and pt2\n",
    "\n",
    "print(Point.ex_class_var)"
   ]
  },
  {
   "cell_type": "markdown",
   "metadata": {},
   "source": [
    "# Simple class example - cities"
   ]
  },
  {
   "cell_type": "markdown",
   "metadata": {},
   "source": [
    "This also gives an example of the `__str__` method, which is used to define how an object will be printed. Note that the method isn't explicitly called by the user; using print() automatically calls it."
   ]
  },
  {
   "cell_type": "code",
   "execution_count": 17,
   "metadata": {},
   "outputs": [
    {
     "name": "stdout",
     "output_type": "stream",
     "text": [
      "Detroit, MI (pop: 1000000)\n"
     ]
    }
   ],
   "source": [
    "city_names = ['Detroit', 'Ann Arbor', 'Pittsburgh']\n",
    "city_pops = [1000000, 250000, 12500000]\n",
    "states = ['MI', 'MI', 'PA']\n",
    "city_tuples = zip(city_names, city_pops, states)\n",
    "\n",
    "class City:\n",
    "    def __init__(self, n, p, s):\n",
    "        self.name = n\n",
    "        self.pop = p\n",
    "        self.state = s\n",
    "        \n",
    "    def __str__(self):\n",
    "        return '{}, {} (pop: {})'.format(self.name, self.state, self.pop)\n",
    "    \n",
    "cities = [City(name, pop, state) for name, pop, state in city_tuples]\n",
    "print(cities[0])"
   ]
  },
  {
   "cell_type": "markdown",
   "metadata": {},
   "source": [
    "# Simple class example - fruits"
   ]
  },
  {
   "cell_type": "markdown",
   "metadata": {},
   "source": [
    "This example demonstrates how to sort instances of a class."
   ]
  },
  {
   "cell_type": "code",
   "execution_count": 30,
   "metadata": {},
   "outputs": [
    {
     "name": "stdout",
     "output_type": "stream",
     "text": [
      "Apple costs $0.2\n",
      "Blueberry costs $0.5\n",
      "Cherry costs $0.7\n"
     ]
    }
   ],
   "source": [
    "class Fruit():\n",
    "    def __init__(self, n, p):\n",
    "        self.name = n\n",
    "        self.price = p\n",
    "        \n",
    "    def __str__(self):\n",
    "        return '{} costs ${}'.format(self.name, self.price)\n",
    "    \n",
    "    def sort_priority(self):\n",
    "        return self.price\n",
    "    \n",
    "l = [Fruit('Cherry', 0.7), Fruit('Apple', 0.2), Fruit('Blueberry', 0.5)]\n",
    "\n",
    "for f in sorted(l, key=Fruit.sort_priority):\n",
    "    print(f)"
   ]
  },
  {
   "cell_type": "markdown",
   "metadata": {},
   "source": [
    "# Simple class example - people"
   ]
  },
  {
   "cell_type": "markdown",
   "metadata": {},
   "source": [
    "The following includes examples of inheritance."
   ]
  },
  {
   "cell_type": "code",
   "execution_count": 44,
   "metadata": {},
   "outputs": [
    {
     "name": "stdout",
     "output_type": "stream",
     "text": [
      "1\n"
     ]
    }
   ],
   "source": [
    "CURRENT_YEAR = 2019\n",
    "class Person:\n",
    "    def __init__(self, name, year_born):\n",
    "        self.name = name\n",
    "        self.year_born = year_born\n",
    "    def getAge(self):\n",
    "        return CURRENT_YEAR - self.year_born\n",
    "    def __str__(self):\n",
    "        return '{} ({})'.format(self.name, self.getAge())\n",
    "    \n",
    "class Student(Person):\n",
    "    def __init__(self, name, year_born):\n",
    "        Person.__init__(self, name, year_born)\n",
    "        self.knowledge = 0\n",
    "    def study(self):\n",
    "        self.knowledge += 1\n",
    "        \n",
    "        \n",
    "alice = Student('Alice Smith', 1990)\n",
    "alice.study()\n",
    "print(alice.knowledge)"
   ]
  },
  {
   "cell_type": "markdown",
   "metadata": {},
   "source": [
    "# Simple class example - books"
   ]
  },
  {
   "cell_type": "markdown",
   "metadata": {},
   "source": [
    "The following book class includes examples of inheritance, and a class which may be used to contain other classes (e.g. a library contains books). It also contains an example of overriding methods, as seen in the `__str__` method in the eBook class."
   ]
  },
  {
   "cell_type": "code",
   "execution_count": 58,
   "metadata": {},
   "outputs": [
    {
     "name": "stdout",
     "output_type": "stream",
     "text": [
      "2\n",
      "This is an eBook! Circe by Madeline Miller, 3 MB\n"
     ]
    }
   ],
   "source": [
    "class Book():\n",
    "    def __init__(self, title, author):\n",
    "        self.title = title\n",
    "        self.author = author\n",
    "    def __str__(self):\n",
    "        return '\"{}\" by {}'.format(self.title, self.author)\n",
    "class PaperBook(Book):\n",
    "    def __init__(self, title, author, numPages):\n",
    "        Book.__init__(self, title, author)\n",
    "        self.numPages = numPages\n",
    "class eBook(Book):\n",
    "    def __init__(self, title, author, size):\n",
    "        Book.__init__(self, title, author)\n",
    "        self.size = size\n",
    "    def __str__(self):\n",
    "        return 'This is an eBook! {} by {}, {} MB'.format(self.title, self.author, self.size)\n",
    "    \n",
    "class Library:\n",
    "    def __init__(self):\n",
    "        self.books = []\n",
    "    def addBook(self, book):\n",
    "        self.books.append(book)\n",
    "    def getNumBooks(self):\n",
    "        return len(self.books)\n",
    "        \n",
    "aadl = Library()\n",
    "aadl.addBook(PaperBook('Circe', 'Madeline Miller', 350))\n",
    "aadl.addBook(eBook('Circe', 'Madeline Miller', 3))\n",
    "print(aadl.getNumBooks())\n",
    "print(eBook('Circe', 'Madeline Miller', 3))"
   ]
  }
 ],
 "metadata": {
  "kernelspec": {
   "display_name": "Python 3",
   "language": "python",
   "name": "python3"
  },
  "language_info": {
   "codemirror_mode": {
    "name": "ipython",
    "version": 3
   },
   "file_extension": ".py",
   "mimetype": "text/x-python",
   "name": "python",
   "nbconvert_exporter": "python",
   "pygments_lexer": "ipython3",
   "version": "3.7.1"
  }
 },
 "nbformat": 4,
 "nbformat_minor": 2
}
